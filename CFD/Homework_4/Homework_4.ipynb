{
 "cells": [
  {
   "cell_type": "markdown",
   "source": [
    "\n",
    "Equation $$\\frac{1}{\\alpha} \\frac{\\partial T^*}{\\partial t^*}=\\frac{\\partial^2 T^*}{\\partial x^* ^2}$$\n",
    "where $$\\alpha=\\frac{k}{\\rho c}$$ $$0\\le x^*\\le L$$\n",
    "At eastern boundary we have a heat transfer rate $$\\dot Q = hA_{wall}(T^*_{wall} − T_\\infty)$$\n",
    "The western boundary is considered insulated."
   ],
   "metadata": {
    "collapsed": false
   },
   "id": "588f7c68a6f1703b"
  },
  {
   "cell_type": "markdown",
   "source": [
    "### 1. Defining boundary conditions"
   ],
   "metadata": {
    "collapsed": false
   },
   "id": "4e0da85376cad275"
  },
  {
   "cell_type": "markdown",
   "source": [
    "The fluid initially has the temperature $T_i$ $$T^* \\biggr| _{t^*=0}=T_i$$\n",
    "Because the western boundary is considered insulated, we can write $$\\frac{\\partial T^*}{\\partial x^*} \\biggr| _{x^*=0}=0$$\n",
    "This means that no temperature passes through the wall.\n",
    "From the heat transfer rate $\\dot Q$ we can obtain the heat flux q: $$q=\\frac{d\\dot Q}{dA_{wall}}=h(T^*_{wall} − T_\\infty)$$\n",
    "On the western side $x^*=L$ there is a heat flow. Taking into account thermal conductivity (and the fact that the direction of the heat flow vector is opposite to the grad $T$), we can write: $$k\\frac{\\partial T^*}{\\partial x^*}\\biggr| _{x^*=L}+q=0$$"
   ],
   "metadata": {
    "collapsed": false
   },
   "id": "4ec9afef202eaa38"
  },
  {
   "cell_type": "markdown",
   "source": [
    "### 2. Defining non-dimensional parameters"
   ],
   "metadata": {
    "collapsed": false
   },
   "id": "544ae75f89316236"
  },
  {
   "cell_type": "markdown",
   "source": [
    "We can define non-dimensional parameters, such as the temperature becomes: $$T=\\frac{T^*-T_\\infty}{T_i-T_\\infty}$$\n",
    "The Nusselt number: $$Nu=\\frac{hL}{k}$$\n",
    "$$x=\\frac{x^*}{L}$$\n",
    "$$t=\\frac{\\alpha t^*}{L^2}$$"
   ],
   "metadata": {
    "collapsed": false
   },
   "id": "9181428e30d8acc4"
  },
  {
   "cell_type": "markdown",
   "source": [
    "Substituting new variables into previous ones:$$T^*=T(T_i-T_\\infty)+T_\\infty$$ $$t^*=\\frac{tL^2}{\\alpha}$$ $$x^*=xL$$\n",
    "we can obtain $$\\frac{1}{\\alpha} \\frac{\\partial T^*}{\\partial t^*}=\\frac{\\partial^2 T^*}{\\partial x^* ^2}$$\n",
    "$$\\frac{1}{\\alpha} \\frac{\\partial \\left(T(T_i-T_\\infty)+T_\\infty\\right)}{\\partial \\left(\\frac{tL^2}{\\alpha}\\right)}=\\frac{\\partial^2 \\left(T(T_i-T_\\infty)+T_\\infty\\right)}{\\partial \\left(xL^2\\right)}$$\n",
    "$$\\frac{1}{L^2} \\frac{\\partial T}{\\partial t} (T_i-T_\\infty)=\\frac{1}{L^2}\\frac{\\partial^2 T}{\\partial x^2} (T_i-T_\\infty)$$\n",
    "$$\\frac{\\partial T}{\\partial t}=\\frac{\\partial^2 T}{\\partial x^2}$$"
   ],
   "metadata": {
    "collapsed": false
   },
   "id": "98221748d50692d4"
  },
  {
   "cell_type": "markdown",
   "source": [
    "Assuming $T_i-T\\infty\\ne 0$, $\\alpha \\ne 0,\\alpha \\ne \\infty$ and $L\\ne 0, L\\ne \\infty$\n",
    "Transforming initial conditions: $$T^*\\biggr| _{t=0}=T_i$$\n",
    "$$\\left(T(T_i-T_\\infty)+T_\\infty\\right)\\biggr| _{t=0}=T_i \\rightarrow T(T_i-T_\\infty)\\biggr| _{t=0}=T_i-T_\\infty$$\n",
    "Thus $$T\\biggr| _{t=0}=1$$\n",
    "\n",
    "Transforming boundary conditions: $$\\frac{\\partial T^*}{\\partial x^*} \\biggr| _{x^*=0}=\\frac{\\partial \\left(T(T_i-T_\\infty)+T_\\infty\\right)}{\\partial (xL)} \\biggr| _{xL=0}=\\frac{\\partial T}{\\partial x}\\frac{T_i-T\\infty}{L} \\biggr| _{x=0}=0$$\n",
    "We obtain $$\\frac{\\partial T}{\\partial x} \\biggr| _{x=0}=0$$\n",
    "The second one: $$k\\frac{\\partial T^*}{\\partial x^*}\\biggr| _{x^*=L}+q=\\frac{\\partial (T(T_i-T_\\infty)+T_\\infty)}{\\partial (xL)}\\biggr| _{x=1}+ h(T^*_{wall} − T_\\infty)=0$$\n",
    "$$T^*_{wall}=T_{wall}(T_i-T_\\infty)+T_\\infty$$\n",
    "$$\\frac{k}{L}\\frac{\\partial T(T_i-T_\\infty)}{\\partial x}\\biggr| _{x=1}=-h(T_{wall}(T_i-T_\\infty)+T_\\infty-T_\\infty)$$\n",
    "$$\\frac{\\partial T}{\\partial x}\\biggr| _{x=1}=-\\frac{Lh}{k}T_{wall}=-NuT_{wall}$$"
   ],
   "metadata": {
    "collapsed": false
   },
   "id": "4586cba2df49c4ba"
  },
  {
   "cell_type": "markdown",
   "source": [
    "### 3. Discretization of the equation\n",
    "![picture](picture.jpg)\n",
    "![discretization_scheme](discretization_scheme.jpg)"
   ],
   "metadata": {
    "collapsed": false
   },
   "id": "72780da400ae0550"
  },
  {
   "cell_type": "markdown",
   "source": [
    "### 4. Code"
   ],
   "metadata": {
    "collapsed": false
   },
   "id": "7944ac10e7367629"
  },
  {
   "cell_type": "code",
   "execution_count": 1,
   "outputs": [],
   "source": [
    "import numpy as np\n",
    "import matplotlib.pyplot as plt\n",
    "import matplotlib.animation as animation"
   ],
   "metadata": {
    "collapsed": false,
    "ExecuteTime": {
     "end_time": "2024-07-13T10:27:15.835003600Z",
     "start_time": "2024-07-13T10:27:09.159145800Z"
    }
   },
   "id": "a86efe2ba60a7848"
  },
  {
   "cell_type": "markdown",
   "source": [
    "# There were some troubles with the descritization of the Neuman boundary condition, so there is Dirichlet condition for now  "
   ],
   "metadata": {
    "collapsed": false
   },
   "id": "57db409a696c9fc5"
  },
  {
   "cell_type": "code",
   "execution_count": 275,
   "outputs": [],
   "source": [
    "def central_dif_implicit_solve(dx, dt, nx, t,TL,T0t):\n",
    "    sol=np.array([[]])\n",
    "    for j in np.arange(0,t+dt,dt):\n",
    "        M=np.zeros((nx, nx))\n",
    "        S=np.zeros(nx)\n",
    "        \n",
    "        aWL=1/dx\n",
    "        aEL=0\n",
    "        aPL0=dx/dt\n",
    "        SPL=2/dx\n",
    "        SuL=-2*TL/dx\n",
    "        # SPL=-2*TL/dx # This is Dirichlet \n",
    "        # SuL=0\n",
    "        aPL=aWL+aEL+aPL0-SPL\n",
    "        M[nx - 1, nx - 1]= aPL\n",
    "        M[nx-1,nx-2]=-aWL\n",
    "        S[-1]=SuL+aPL0*(T0t if j==0 else sol[-1][-1])\n",
    "        \n",
    "        # aWL=1/dx\n",
    "        # aEL=0\n",
    "        # # aEL=2*TL/dx\n",
    "        # aPL0=dx/dt\n",
    "        # SPL=0\n",
    "        # SuL=TL\n",
    "        # aPL=aWL+aEL+aPL0-SPL\n",
    "        # M[nx - 1, nx - 1]= aPL\n",
    "        # M[nx-1,nx-2]=-aWL\n",
    "        # S[-1]=SuL+aPL0*(T0t if j==0 else sol[-1][-1])\n",
    "        \n",
    "        \n",
    "        # aEL=0\n",
    "        # aWL=0\n",
    "        # aPL0=dx/dt\n",
    "        # SPL=0\n",
    "        # SuL=TL\n",
    "        # aPL=aWL+aEL+aPL0-SPL\n",
    "        # M[nx - 1, nx - 1]= aPL\n",
    "        # M[nx-1,nx-2]=-aWL\n",
    "        # S[-1]=SuL+aPL0*(T0t if j==0 else sol[-1][-1])\n",
    "        \n",
    "        \n",
    "        aW0=0\n",
    "        aE0=1/dx\n",
    "        aP00=dx/dt\n",
    "        SP0=0\n",
    "        Su0=0\n",
    "        aP0=aW0+aE0+aP00-SP0\n",
    "        M[0,0]=aP0\n",
    "        M[0,1]=-aE0\n",
    "        S[0]=Su0+aP00*(T0t if j==0 else sol[-1][0])\n",
    "        \n",
    "\n",
    "         \n",
    "\n",
    "        for i in range(1, nx - 1):\n",
    "            aW=1/dx\n",
    "            aE=1/dx\n",
    "            aP0=dx/dt\n",
    "            Sp=0\n",
    "            Su=0\n",
    "            aP=aW+aE+aP0-Sp\n",
    "            M[i,i]=aP\n",
    "            M[i,i-1]=-aW\n",
    "            M[i,i+1]=-aE\n",
    "            S[i]=Su+aP0*(T0t if j==0 else sol[-1][i])\n",
    "            \n",
    "        if j==0:\n",
    "            sol=[(np.linalg.solve(M,S))]\n",
    "        else:\n",
    "            sol=np.append(sol,[(np.linalg.solve(M,S))],axis=0)\n",
    "        print(\"time=\", j)\n",
    "    return sol"
   ],
   "metadata": {
    "collapsed": false,
    "ExecuteTime": {
     "end_time": "2024-07-13T13:42:16.535489800Z",
     "start_time": "2024-07-13T13:42:16.463467900Z"
    }
   },
   "id": "631ec58dd77e4b7"
  },
  {
   "cell_type": "code",
   "execution_count": 276,
   "outputs": [
    {
     "name": "stdout",
     "output_type": "stream",
     "text": [
      "time= 0.0\n",
      "time= 0.5\n",
      "time= 1.0\n",
      "time= 1.5\n",
      "time= 2.0\n",
      "time= 2.5\n",
      "time= 3.0\n",
      "time= 3.5\n",
      "time= 4.0\n",
      "(9, 400)\n"
     ]
    }
   ],
   "source": [
    "nx=400\n",
    "startpoint=0\n",
    "L=1\n",
    "t=4\n",
    "Nu=10\n",
    "T_wall=0.0012\n",
    "# T_wall=-0.012\n",
    "# T_wall=-0.0008\n",
    "# T_wall=0.1\n",
    "T0t=1\n",
    "\n",
    "dt=0.5\n",
    "dx=(L-startpoint)/nx\n",
    "x=np.linspace(startpoint + dx / 2, L - dx / 2, nx)\n",
    "\n",
    "solution=central_dif_implicit_solve(dx,dt,nx,t,-Nu*T_wall,T0t)\n",
    "print(solution.shape)"
   ],
   "metadata": {
    "collapsed": false,
    "ExecuteTime": {
     "end_time": "2024-07-13T13:42:17.073465900Z",
     "start_time": "2024-07-13T13:42:16.835471700Z"
    }
   },
   "id": "e201f222f9a9efff"
  },
  {
   "cell_type": "code",
   "execution_count": 277,
   "outputs": [
    {
     "data": {
      "text/plain": "<Figure size 640x480 with 1 Axes>",
      "image/png": "[encoded data removed]"
     },
     "metadata": {},
     "output_type": "display_data"
    }
   ],
   "source": [
    "A1=1.262\n",
    "L1=1.4289\n",
    "# t_0=0.2\n",
    "# t_0=2\n",
    "t_0=0\n",
    "T_analytical=A1*np.exp(-L1*L1*t_0)*np.cos(L1*x)\n",
    "plt.plot(x,solution[int((solution.shape[0]-1)*t_0/t)],label=\"Obtained solution\")\n",
    "plt.plot(x,T_analytical,label=\"Analytical solution\")\n",
    "plt.legend()\n",
    "plt.show()"
   ],
   "metadata": {
    "collapsed": false,
    "ExecuteTime": {
     "end_time": "2024-07-13T13:42:18.193484500Z",
     "start_time": "2024-07-13T13:42:17.458483400Z"
    }
   },
   "id": "c96c5199c8cb619b"
  },
  {
   "cell_type": "code",
   "execution_count": 278,
   "outputs": [
    {
     "data": {
      "text/plain": "<Figure size 640x480 with 1 Axes>",
      "image/png": "[encoded data removed]"
     },
     "metadata": {},
     "output_type": "display_data"
    }
   ],
   "source": [
    "fig, ax = plt.subplots()\n",
    "# scat = ax.scatter()\n",
    "\n",
    "artists=[]\n",
    "for i in np.arange(0,t,dt):\n",
    "    T_analytical=A1*np.exp(-L1*L1*i)*np.cos(L1*x)\n",
    "    c=ax.plot(x,solution[int((solution.shape[0]-1)*i/t)],color='g')\n",
    "    c=c+ax.plot(x,T_analytical,color=\"b\")\n",
    "    artists.append(c)\n",
    "    # plt.legend()\n",
    "    \n",
    "T_analytical=A1*np.exp(-L1*L1*t)*np.cos(L1*x)\n",
    "c=ax.plot(x,solution[int((solution.shape[0]-1)*t/t)],label=\"Obtained solution\",color='g')\n",
    "c=c+ax.plot(x,T_analytical,label=\"Analytical solution\",color=\"b\")\n",
    "artists.append(c)\n",
    "ax.legend()\n",
    "\n",
    "# ani = animation.FuncAnimation(fig=fig, func=update, frames=40, interval=30)\n",
    "# plt.show()\n",
    "ani = animation.ArtistAnimation(fig=fig, artists=artists, interval=400)\n",
    "\n",
    "ani.save(filename=\"plot.gif\", writer=\"pillow\")"
   ],
   "metadata": {
    "collapsed": false,
    "ExecuteTime": {
     "end_time": "2024-07-13T13:42:21.111481800Z",
     "start_time": "2024-07-13T13:42:18.794481400Z"
    }
   },
   "id": "5d0b3066fa0aba05"
  },
  {
   "cell_type": "markdown",
   "source": [
    "### 5. A flux case\n",
    "$$\\frac{\\partial T}{\\partial t}+u\\frac{\\partial T}{\\partial x}=\\frac{\\partial^2 T}{\\partial x^2}$$\n",
    "$$u=\\pm 200$$\n",
    "In the western boundary, where the temperature increasing, we left the previous condition:\n",
    "$$\\frac{\\partial T}{\\partial x}\\biggr| _{x=1}=-NuT_{wall}$$\n",
    "We still have insulated western boundary, but now the flux goes throw it and we can't ignore the convection. So, taking into account non-dimensional velocity we can define the eastern boundary condition as $$\\frac{\\partial T}{\\partial x}\\biggr| _{x=0}=u$$\n",
    "It means there should be no diffusion throw the western boundary"
   ],
   "metadata": {
    "collapsed": false
   },
   "id": "e9c07818d01127e1"
  },
  {
   "cell_type": "markdown",
   "source": [
    "The steady temperature means that the temperature does not changes over time: $\\frac{\\partial T}{\\partial x}=0$\n",
    "So the equation becomes $$u\\frac{\\partial T}{\\partial x}=\\frac{\\partial^2 T}{\\partial x^2}$$"
   ],
   "metadata": {
    "collapsed": false
   },
   "id": "c32dd5a720c2bb3"
  },
  {
   "cell_type": "code",
   "execution_count": 279,
   "outputs": [],
   "source": [
    "#System of linear equations\n",
    "def upwind_steady_solve(dx, nx,u,TL):\n",
    "    S=np.zeros(nx)\n",
    "    M=np.zeros((nx, nx))\n",
    "    \n",
    "    D=1/dx\n",
    "    F=u\n",
    "    \n",
    "    for i in range(1, nx - 1):\n",
    "        aW= D + max(F, 0)\n",
    "        aE= D + max(0, -F)\n",
    "        Sp=0\n",
    "        aP=aW+aE-Sp #Fe=Fw=F => Fe-Fw=0\n",
    "        M[i,i-1]=-aW\n",
    "        M[i,i]=aP\n",
    "        M[i,i+1]=-aE\n",
    "        S[i]=0\n",
    "        \n",
    "        \n",
    "    # #Boundaries\n",
    "    aE= D + max(0, -F)\n",
    "    Sp=-(max(0,F))\n",
    "    M[0][0]=aE-Sp\n",
    "    M[0][1]=-aE\n",
    "    S[0]=  (max(0, F))#??????????????????????????\n",
    "    # \n",
    "    #     #Boundaries\n",
    "    # aE= D+ max(0, -F)\n",
    "    # Sp=D\n",
    "    # M[0][0]=aE-Sp\n",
    "    # M[0][1]=-aE\n",
    "    # S[0]=  max(0, F)#??????????????????????????\n",
    "    \n",
    "    \n",
    "    aW= D + max(F, 0)\n",
    "    Sp=-(2 * D+ max(0,-F))\n",
    "    M[nx - 1][nx - 2]=-aW\n",
    "    M[nx - 1][nx - 1]= aW -Sp\n",
    "    S[nx - 1]=  (2 * D + max(0, -F)) * TL\n",
    "    \n",
    "    \n",
    "    return np.linalg.solve(M,S)"
   ],
   "metadata": {
    "collapsed": false,
    "ExecuteTime": {
     "end_time": "2024-07-13T13:42:21.296479200Z",
     "start_time": "2024-07-13T13:42:21.097484500Z"
    }
   },
   "id": "2889415d680d75a4"
  },
  {
   "cell_type": "code",
   "execution_count": 280,
   "outputs": [
    {
     "data": {
      "text/plain": "<Figure size 640x480 with 1 Axes>",
      "image/png": "[encoded data removed]"
     },
     "metadata": {},
     "output_type": "display_data"
    }
   ],
   "source": [
    "# dt=0.1\n",
    "u=200\n",
    "\n",
    "solution=upwind_steady_solve(dx,nx,u,-Nu*T_wall)\n",
    "plt.plot(x,solution,label=\"Steady temperature for u=200 case\")\n",
    "plt.legend()\n",
    "plt.show()"
   ],
   "metadata": {
    "collapsed": false,
    "ExecuteTime": {
     "end_time": "2024-07-13T13:42:21.654478600Z",
     "start_time": "2024-07-13T13:42:21.117486200Z"
    }
   },
   "id": "9f2293c7a3acc5aa"
  },
  {
   "cell_type": "code",
   "execution_count": 281,
   "outputs": [
    {
     "data": {
      "text/plain": "<Figure size 640x480 with 1 Axes>",
      "image/png": "[encoded data removed]"
     },
     "metadata": {},
     "output_type": "display_data"
    }
   ],
   "source": [
    "# dt=0.1\n",
    "u=-200\n",
    "\n",
    "solution=upwind_steady_solve(dx,nx,u,-Nu*T_wall)\n",
    "plt.plot(x,solution,label=\"Steady temperature for u=-200 case\")\n",
    "plt.legend()\n",
    "plt.show()"
   ],
   "metadata": {
    "collapsed": false,
    "ExecuteTime": {
     "end_time": "2024-07-13T13:42:22.243492600Z",
     "start_time": "2024-07-13T13:42:21.651483100Z"
    }
   },
   "id": "2449414d72f1ae8c"
  },
  {
   "cell_type": "code",
   "execution_count": 281,
   "outputs": [],
   "source": [],
   "metadata": {
    "collapsed": false,
    "ExecuteTime": {
     "end_time": "2024-07-13T13:42:22.353171300Z",
     "start_time": "2024-07-13T13:42:22.244491Z"
    }
   },
   "id": "16cae579057c185f"
  },
  {
   "cell_type": "markdown",
   "source": [
    "### 6. Discretization of the equation "
   ],
   "metadata": {
    "collapsed": false
   },
   "id": "75da7a930e2a77bb"
  },
  {
   "cell_type": "code",
   "execution_count": 281,
   "outputs": [],
   "source": [],
   "metadata": {
    "collapsed": false,
    "ExecuteTime": {
     "end_time": "2024-07-13T13:42:22.353171300Z",
     "start_time": "2024-07-13T13:42:22.259487300Z"
    }
   },
   "id": "fce3a6413c6999a7"
  },
  {
   "cell_type": "markdown",
   "source": [
    "Combining upwind coefficients with the previous one"
   ],
   "metadata": {
    "collapsed": false
   },
   "id": "24f17a0924df7c18"
  },
  {
   "cell_type": "markdown",
   "source": [
    "# For now it starts from t=0"
   ],
   "metadata": {
    "collapsed": false
   },
   "id": "81cfd10489df5160"
  },
  {
   "cell_type": "code",
   "execution_count": 283,
   "outputs": [],
   "source": [
    "#System of linear equations\n",
    "def upwind_solve(dx, dt, nx,u, t,TL,T0t):\n",
    "    \n",
    "    sol=np.array([[]])\n",
    "    for j in np.arange(0,t+dt,dt):\n",
    "        \n",
    "        S=np.zeros(nx)\n",
    "        M=np.zeros((nx, nx))\n",
    "        \n",
    "        D=1/dx\n",
    "        F=u\n",
    "        aP0=dx/dt\n",
    "        \n",
    "        for i in range(1, nx - 1):\n",
    "            aW= D + max(F, 0)\n",
    "            aE= D + max(0, -F)\n",
    "            Sp=0\n",
    "            aP=aW+aE+aP0-Sp #Fe=Fw=F => Fe-Fw=0\n",
    "            M[i,i-1]=-aW\n",
    "            M[i,i]=aP\n",
    "            M[i,i+1]=-aE\n",
    "            S[i]= aP0*(T0t if j==0 else sol[-1][i])\n",
    "            \n",
    "            \n",
    "        #Boundaries\n",
    "        aE= D + max(0, -F)\n",
    "        Sp=-(max(0,F))\n",
    "        M[0][0]=aE-Sp+aP0\n",
    "        M[0][1]=-aE\n",
    "        S[0]=  (max(0, F)) +aP0*(T0t if j==0 else sol[-1][0])\n",
    "        \n",
    "        aW= D + max(F, 0)\n",
    "        Sp=-(2 * D+ max(0,-F))\n",
    "        M[nx - 1][nx - 2]=-aW\n",
    "        M[nx - 1][nx - 1]= aW -Sp+aP0\n",
    "        S[nx - 1]=  (2 * D + max(0, -F)) * TL+aP0*(T0t if j==0 else sol[-1][0])\n",
    "        \n",
    "        \n",
    "        \n",
    "        if j==0:\n",
    "            sol=[(np.linalg.solve(M,S))]\n",
    "        else:\n",
    "            sol=np.append(sol,[(np.linalg.solve(M,S))],axis=0)\n",
    "        print(\"time=\", j)\n",
    "        \n",
    "    return sol"
   ],
   "metadata": {
    "collapsed": false,
    "ExecuteTime": {
     "end_time": "2024-07-13T13:42:23.383927400Z",
     "start_time": "2024-07-13T13:42:23.309930800Z"
    }
   },
   "id": "be21921b54b65e7e"
  },
  {
   "cell_type": "code",
   "execution_count": 284,
   "outputs": [
    {
     "name": "stdout",
     "output_type": "stream",
     "text": [
      "time= 0.0\n",
      "time= 0.1\n",
      "time= 0.2\n",
      "time= 0.30000000000000004\n",
      "time= 0.4\n",
      "time= 0.5\n",
      "time= 0.6000000000000001\n",
      "time= 0.7000000000000001\n",
      "time= 0.8\n",
      "time= 0.9\n",
      "time= 1.0\n",
      "time= 1.1\n",
      "time= 1.2000000000000002\n",
      "time= 1.3\n",
      "time= 1.4000000000000001\n",
      "time= 1.5\n",
      "time= 1.6\n",
      "time= 1.7000000000000002\n",
      "time= 1.8\n",
      "time= 1.9000000000000001\n",
      "time= 2.0\n",
      "time= 2.1\n",
      "time= 2.2\n",
      "time= 2.3000000000000003\n",
      "time= 2.4000000000000004\n",
      "time= 2.5\n",
      "time= 2.6\n",
      "time= 2.7\n",
      "time= 2.8000000000000003\n",
      "time= 2.9000000000000004\n",
      "time= 3.0\n",
      "time= 3.1\n",
      "time= 3.2\n",
      "time= 3.3000000000000003\n",
      "time= 3.4000000000000004\n",
      "time= 3.5\n",
      "time= 3.6\n",
      "time= 3.7\n",
      "time= 3.8000000000000003\n",
      "time= 3.9000000000000004\n",
      "time= 4.0\n",
      "(41, 400)\n"
     ]
    }
   ],
   "source": [
    "u=200\n",
    "dt=0.1\n",
    "nx=400\n",
    "\n",
    "\n",
    "solution=upwind_solve(dx,dt,nx,u,t,-Nu*T_wall,T0t)\n",
    "print(solution.shape)"
   ],
   "metadata": {
    "collapsed": false,
    "ExecuteTime": {
     "end_time": "2024-07-13T13:42:30.683934500Z",
     "start_time": "2024-07-13T13:42:23.665931700Z"
    }
   },
   "id": "698b8376d0ab1c7c"
  },
  {
   "cell_type": "code",
   "execution_count": 285,
   "outputs": [
    {
     "data": {
      "text/plain": "<Figure size 640x480 with 1 Axes>",
      "image/png": "[encoded data removed]"
     },
     "metadata": {},
     "output_type": "display_data"
    }
   ],
   "source": [
    "t_0=2\n",
    "plt.plot(x,solution[int((solution.shape[0]-1)*t_0/t)],label=\"Obtained solution for u>0 case\")\n",
    "plt.legend()\n",
    "plt.show()"
   ],
   "metadata": {
    "collapsed": false,
    "ExecuteTime": {
     "end_time": "2024-07-13T13:42:30.975929600Z",
     "start_time": "2024-07-13T13:42:30.683934500Z"
    }
   },
   "id": "97b053d376eaa0dd"
  },
  {
   "cell_type": "code",
   "execution_count": 286,
   "outputs": [],
   "source": [
    "def save_animation(filename,solution,t,dt):\n",
    "    fig, ax = plt.subplots()\n",
    "    # scat = ax.scatter()\n",
    "    \n",
    "    artists=[]\n",
    "    for i in np.arange(0,t,dt):\n",
    "        c=ax.plot(x,solution[int((solution.shape[0]-1)*i/t)],color='g')\n",
    "        artists.append(c)\n",
    "        \n",
    "    c=ax.plot(x,solution[int((solution.shape[0]-1)*t/t)],label=\"Obtained solution\",color='b')\n",
    "    artists.append(c)\n",
    "    ax.legend()\n",
    "    \n",
    "\n",
    "    ani = animation.ArtistAnimation(fig=fig, artists=artists, interval=400)\n",
    "    \n",
    "    ani.save(filename=filename+\".gif\", writer=\"pillow\")"
   ],
   "metadata": {
    "collapsed": false,
    "ExecuteTime": {
     "end_time": "2024-07-13T13:42:31.081926900Z",
     "start_time": "2024-07-13T13:42:30.970932200Z"
    }
   },
   "id": "e8e8fd3b59270327"
  },
  {
   "cell_type": "code",
   "execution_count": 287,
   "outputs": [
    {
     "data": {
      "text/plain": "<Figure size 640x480 with 1 Axes>",
      "image/png": "[encoded data removed]"
     },
     "metadata": {},
     "output_type": "display_data"
    }
   ],
   "source": [
    "save_animation(\"plot_with_positive_velocity\",solution,t,dt)"
   ],
   "metadata": {
    "collapsed": false,
    "ExecuteTime": {
     "end_time": "2024-07-13T13:42:41.703938900Z",
     "start_time": "2024-07-13T13:42:31.004934800Z"
    }
   },
   "id": "2aca87189f237a6e"
  },
  {
   "cell_type": "code",
   "execution_count": 288,
   "outputs": [
    {
     "name": "stdout",
     "output_type": "stream",
     "text": [
      "time= 0.0\n",
      "time= 0.1\n",
      "time= 0.2\n",
      "time= 0.30000000000000004\n",
      "time= 0.4\n",
      "time= 0.5\n",
      "time= 0.6000000000000001\n",
      "time= 0.7000000000000001\n",
      "time= 0.8\n",
      "time= 0.9\n",
      "time= 1.0\n",
      "time= 1.1\n",
      "time= 1.2000000000000002\n",
      "time= 1.3\n",
      "time= 1.4000000000000001\n",
      "time= 1.5\n",
      "time= 1.6\n",
      "time= 1.7000000000000002\n",
      "time= 1.8\n",
      "time= 1.9000000000000001\n",
      "time= 2.0\n",
      "time= 2.1\n",
      "time= 2.2\n",
      "time= 2.3000000000000003\n",
      "time= 2.4000000000000004\n",
      "time= 2.5\n",
      "time= 2.6\n",
      "time= 2.7\n",
      "time= 2.8000000000000003\n",
      "time= 2.9000000000000004\n",
      "time= 3.0\n",
      "time= 3.1\n",
      "time= 3.2\n",
      "time= 3.3000000000000003\n",
      "time= 3.4000000000000004\n",
      "time= 3.5\n",
      "time= 3.6\n",
      "time= 3.7\n",
      "time= 3.8000000000000003\n",
      "time= 3.9000000000000004\n",
      "time= 4.0\n",
      "(41, 400)\n"
     ]
    }
   ],
   "source": [
    "u=-200\n",
    "dt=0.1\n",
    "nx=400\n",
    "\n",
    "\n",
    "solution=upwind_solve(dx,dt,nx,u,t,-Nu*T_wall,T0t)\n",
    "print(solution.shape)"
   ],
   "metadata": {
    "collapsed": false,
    "ExecuteTime": {
     "end_time": "2024-07-13T13:42:44.867928300Z",
     "start_time": "2024-07-13T13:42:41.704932400Z"
    }
   },
   "id": "19b4a4fdf3f0cd16"
  },
  {
   "cell_type": "code",
   "execution_count": 289,
   "outputs": [
    {
     "data": {
      "text/plain": "<Figure size 640x480 with 1 Axes>",
      "image/png": "[encoded data removed]"
     },
     "metadata": {},
     "output_type": "display_data"
    }
   ],
   "source": [
    "t_0=2\n",
    "plt.plot(x,solution[int((solution.shape[0]-1)*t_0/t)],label=\"Obtained solution for u<0 case\")\n",
    "plt.legend()\n",
    "plt.show()"
   ],
   "metadata": {
    "collapsed": false,
    "ExecuteTime": {
     "end_time": "2024-07-13T13:42:45.170931Z",
     "start_time": "2024-07-13T13:42:44.871929300Z"
    }
   },
   "id": "528ce86f8de3c820"
  },
  {
   "cell_type": "code",
   "execution_count": 290,
   "outputs": [
    {
     "data": {
      "text/plain": "<Figure size 640x480 with 1 Axes>",
      "image/png": "[encoded data removed]"
     },
     "metadata": {},
     "output_type": "display_data"
    }
   ],
   "source": [
    "save_animation(\"plot_with_negative_velocity\",solution,t,dt)"
   ],
   "metadata": {
    "collapsed": false,
    "ExecuteTime": {
     "end_time": "2024-07-13T13:42:52.153935Z",
     "start_time": "2024-07-13T13:42:45.168929200Z"
    }
   },
   "id": "b84302e1e21aeab6"
  },
  {
   "cell_type": "markdown",
   "source": [
    "### 7. $u=\\pm 20$ case"
   ],
   "metadata": {
    "collapsed": false
   },
   "id": "1e12e72416fd262a"
  },
  {
   "cell_type": "markdown",
   "source": [
    "This technique can be good also for $u=\\pm20$. The upwind can still be better than, e.g. central differencing, since the Peclet number will still be $Pe=u/1/dx=20*400>>2$"
   ],
   "metadata": {
    "collapsed": false
   },
   "id": "d07c3fc7f122de99"
  },
  {
   "cell_type": "code",
   "execution_count": null,
   "outputs": [],
   "source": [],
   "metadata": {
    "collapsed": false
   },
   "id": "76456edac750d4de"
  }
 ],
 "metadata": {
  "kernelspec": {
   "display_name": "Python 3",
   "language": "python",
   "name": "python3"
  },
  "language_info": {
   "codemirror_mode": {
    "name": "ipython",
    "version": 2
   },
   "file_extension": ".py",
   "mimetype": "text/x-python",
   "name": "python",
   "nbconvert_exporter": "python",
   "pygments_lexer": "ipython2",
   "version": "2.7.6"
  }
 },
 "nbformat": 4,
 "nbformat_minor": 5
}
